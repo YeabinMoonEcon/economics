{
 "cells": [
  {
   "cell_type": "code",
   "execution_count": 1,
   "metadata": {},
   "outputs": [],
   "source": [
    "\n",
    "import pandas as pd\n",
    "import time\n",
    "from safegraph_py_functions import safegraph_py_functions as sgpy\n",
    "\n",
    "\n",
    "years = ['2019']\n",
    "months = pd.date_range(start='2019-01-01', end='2019-12-31',freq= 'M')\n",
    "months = list(months.strftime('%m'))\n",
    "list_files = ['patterns-part1.csv.gz','patterns-part2.csv.gz',\n",
    "              'patterns-part3.csv.gz','patterns-part4.csv.gz']\n",
    "\n",
    "demo = pd.read_csv('/Users/yeabinmoon/Dropbox (UH-ECON)/Research/JMP/data/open_census/race_cbg.csv',\n",
    "                   index_col = 0, dtype = {'poi_cbg':str})"
   ]
  },
  {
   "cell_type": "code",
   "execution_count": 2,
   "metadata": {},
   "outputs": [
    {
     "data": {
      "text/html": [
       "<div>\n",
       "<style scoped>\n",
       "    .dataframe tbody tr th:only-of-type {\n",
       "        vertical-align: middle;\n",
       "    }\n",
       "\n",
       "    .dataframe tbody tr th {\n",
       "        vertical-align: top;\n",
       "    }\n",
       "\n",
       "    .dataframe thead th {\n",
       "        text-align: right;\n",
       "    }\n",
       "</style>\n",
       "<table border=\"1\" class=\"dataframe\">\n",
       "  <thead>\n",
       "    <tr style=\"text-align: right;\">\n",
       "      <th></th>\n",
       "      <th>poi_cbg</th>\n",
       "      <th>white</th>\n",
       "      <th>black</th>\n",
       "      <th>asian</th>\n",
       "      <th>hispanic</th>\n",
       "    </tr>\n",
       "  </thead>\n",
       "  <tbody>\n",
       "    <tr>\n",
       "      <th>0</th>\n",
       "      <td>010010201001</td>\n",
       "      <td>0.763758</td>\n",
       "      <td>0.214765</td>\n",
       "      <td>0.000000</td>\n",
       "      <td>0.021477</td>\n",
       "    </tr>\n",
       "    <tr>\n",
       "      <th>1</th>\n",
       "      <td>010010201002</td>\n",
       "      <td>0.826877</td>\n",
       "      <td>0.082213</td>\n",
       "      <td>0.007115</td>\n",
       "      <td>0.029249</td>\n",
       "    </tr>\n",
       "    <tr>\n",
       "      <th>2</th>\n",
       "      <td>010010202001</td>\n",
       "      <td>0.376042</td>\n",
       "      <td>0.591667</td>\n",
       "      <td>0.000000</td>\n",
       "      <td>0.013542</td>\n",
       "    </tr>\n",
       "    <tr>\n",
       "      <th>3</th>\n",
       "      <td>010010202002</td>\n",
       "      <td>0.488673</td>\n",
       "      <td>0.461974</td>\n",
       "      <td>0.019417</td>\n",
       "      <td>0.012136</td>\n",
       "    </tr>\n",
       "    <tr>\n",
       "      <th>4</th>\n",
       "      <td>010010203001</td>\n",
       "      <td>0.626481</td>\n",
       "      <td>0.217851</td>\n",
       "      <td>0.011421</td>\n",
       "      <td>0.096447</td>\n",
       "    </tr>\n",
       "    <tr>\n",
       "      <th>...</th>\n",
       "      <td>...</td>\n",
       "      <td>...</td>\n",
       "      <td>...</td>\n",
       "      <td>...</td>\n",
       "      <td>...</td>\n",
       "    </tr>\n",
       "    <tr>\n",
       "      <th>220328</th>\n",
       "      <td>721537506011</td>\n",
       "      <td>0.000000</td>\n",
       "      <td>0.000000</td>\n",
       "      <td>0.000000</td>\n",
       "      <td>1.000000</td>\n",
       "    </tr>\n",
       "    <tr>\n",
       "      <th>220329</th>\n",
       "      <td>721537506012</td>\n",
       "      <td>0.000000</td>\n",
       "      <td>0.000000</td>\n",
       "      <td>0.000000</td>\n",
       "      <td>1.000000</td>\n",
       "    </tr>\n",
       "    <tr>\n",
       "      <th>220330</th>\n",
       "      <td>721537506013</td>\n",
       "      <td>0.026778</td>\n",
       "      <td>0.000000</td>\n",
       "      <td>0.000000</td>\n",
       "      <td>0.973222</td>\n",
       "    </tr>\n",
       "    <tr>\n",
       "      <th>220331</th>\n",
       "      <td>721537506021</td>\n",
       "      <td>0.009476</td>\n",
       "      <td>0.000000</td>\n",
       "      <td>0.000000</td>\n",
       "      <td>0.990524</td>\n",
       "    </tr>\n",
       "    <tr>\n",
       "      <th>220332</th>\n",
       "      <td>721537506022</td>\n",
       "      <td>0.000000</td>\n",
       "      <td>0.000000</td>\n",
       "      <td>0.000000</td>\n",
       "      <td>1.000000</td>\n",
       "    </tr>\n",
       "  </tbody>\n",
       "</table>\n",
       "<p>220333 rows × 5 columns</p>\n",
       "</div>"
      ],
      "text/plain": [
       "             poi_cbg     white     black     asian  hispanic\n",
       "0       010010201001  0.763758  0.214765  0.000000  0.021477\n",
       "1       010010201002  0.826877  0.082213  0.007115  0.029249\n",
       "2       010010202001  0.376042  0.591667  0.000000  0.013542\n",
       "3       010010202002  0.488673  0.461974  0.019417  0.012136\n",
       "4       010010203001  0.626481  0.217851  0.011421  0.096447\n",
       "...              ...       ...       ...       ...       ...\n",
       "220328  721537506011  0.000000  0.000000  0.000000  1.000000\n",
       "220329  721537506012  0.000000  0.000000  0.000000  1.000000\n",
       "220330  721537506013  0.026778  0.000000  0.000000  0.973222\n",
       "220331  721537506021  0.009476  0.000000  0.000000  0.990524\n",
       "220332  721537506022  0.000000  0.000000  0.000000  1.000000\n",
       "\n",
       "[220333 rows x 5 columns]"
      ]
     },
     "execution_count": 2,
     "metadata": {},
     "output_type": "execute_result"
    }
   ],
   "source": [
    "demo"
   ]
  },
  {
   "cell_type": "code",
   "execution_count": 3,
   "metadata": {},
   "outputs": [
    {
     "data": {
      "text/plain": [
       "['01', '02', '03', '04', '05', '06', '07', '08', '09', '10', '11', '12']"
      ]
     },
     "execution_count": 3,
     "metadata": {},
     "output_type": "execute_result"
    }
   ],
   "source": [
    "months"
   ]
  },
  {
   "cell_type": "code",
   "execution_count": null,
   "metadata": {},
   "outputs": [],
   "source": []
  }
 ],
 "metadata": {
  "kernelspec": {
   "display_name": "Python 3",
   "language": "python",
   "name": "python3"
  },
  "language_info": {
   "codemirror_mode": {
    "name": "ipython",
    "version": 3
   },
   "file_extension": ".py",
   "mimetype": "text/x-python",
   "name": "python",
   "nbconvert_exporter": "python",
   "pygments_lexer": "ipython3",
   "version": "3.8.5"
  }
 },
 "nbformat": 4,
 "nbformat_minor": 4
}
